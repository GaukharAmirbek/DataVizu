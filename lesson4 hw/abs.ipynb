{
 "cells": [
  {
   "cell_type": "code",
   "execution_count": null,
   "id": "79662da3",
   "metadata": {},
   "outputs": [],
   "source": [
    "import os\n",
    "import json\n",
    "import pathlib\n",
    "import re\n",
    "from collections import defaultdict\n",
    "DATA = str(pathlib.Path('./').resolve()) + '/data'\n",
    "punct = re.compile(\"[:.,l!?-]+\")\n",
    "\n",
    "paths = None\n",
    "papers = []\n",
    "\n",
    "for root, dirs, files in os.walk('./data'):\n",
    "    paths = [ os.path.join(DATA, flname) for flname in files ]\n",
    "\n",
    "for path in paths:\n",
    "    with open(path, 'r', encoding='utf-8') as fh:\n",
    "        papers.extend(json.load(fh))\n",
    "    \n",
    "abstracts = [paper[\"abstract\"] for paper in papers]\n",
    "lengs = list(set([len(abs1) for abs1 in abstracts]))\n",
    "\n",
    "lengs\n",
    "\n",
    "with open(\"abslength.json\", \"w\") as fh:\n",
    "    fh.write(json.dumps(lengs))"
   ]
  }
 ],
 "metadata": {
  "kernelspec": {
   "display_name": "Python 3 (ipykernel)",
   "language": "python",
   "name": "python3"
  },
  "language_info": {
   "codemirror_mode": {
    "name": "ipython",
    "version": 3
   },
   "file_extension": ".py",
   "mimetype": "text/x-python",
   "name": "python",
   "nbconvert_exporter": "python",
   "pygments_lexer": "ipython3",
   "version": "3.9.7"
  }
 },
 "nbformat": 4,
 "nbformat_minor": 5
}
